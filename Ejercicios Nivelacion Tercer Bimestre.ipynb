{
 "cells": [
  {
   "cell_type": "markdown",
   "metadata": {},
   "source": [
    "# Ejercicios Nivelación Informática Grado 11 - Tercer Bimestre\n",
    "Seleccione uno de los siguientes ejercicios, el otro será dado por el profesor de esta misma lista.\n",
    "\n",
    "__Los archivos deben ser guardados de la siguiente forma__:<br>\n",
    "Apellido_tipoEjercicio_curso.html<br>\n",
    "\n",
    "Por ejemplo:\n",
    "\n",
    "Bustamante_1_1101.html<br>\n",
    "Bustamante_3_1101.html\n",
    "## Tipo 1: Modificar la apariencia de elementos HTML\n",
    "> ### Diseño de la página\n",
    ">\n",
    "> - Título de la página: Ejercicio Tipo 1 (0.5)\n",
    "> - Título de contenido en H1: JavaScript para cambiar la apariencia (0.5)\n",
    "> - Aplique un color de fondo hexadecimal (0.5)\n",
    "> - Busque en internet un párrafo sobre un tema que le llame la atención, este texto debe tener __color diferente__. Escríbalo dentro de las etiquetas correspondientes, como se indica a continuación, no olvide asingarle un id: (0.5)"
   ]
  },
  {
   "cell_type": "code",
   "execution_count": null,
   "metadata": {},
   "outputs": [],
   "source": [
    "%%html\n",
    "<p id=\"---\"> acá va el texto </p>"
   ]
  },
  {
   "cell_type": "markdown",
   "metadata": {},
   "source": [
    "> - Después escriba centrado y en otro color su nombre completo (0.5)\n",
    ">\n",
    "> ### Funcionamiento del Script\n",
    ">\n",
    "> El script debe accionarse al hacer clic en cualquier parte del párrafo que buscó, inmediatamente el texto será reemplazado por el mensaje: \"Esto es JavaScript y es Genial!\"\n",
    ">\n",
    "> Para lograrlo usted debe:\n",
    "> - Usar el evento apropiado dentro de la etiqueta < p >, llamando una función diseñada por usted (1.0)\n",
    "> - Definir correctamente dentro del script la función correspondiente (1.0)\n",
    "> - Escribir correctamente dentro de la función la sentencia que permite reemplazar el texto (1.0)\n",
    ">\n",
    "> __Condición: este script no debe tener ningún botón para funcionar. En el Jupyter Sesion 3 - parte 2. Se trató este tema.__"
   ]
  },
  {
   "cell_type": "markdown",
   "metadata": {},
   "source": [
    "## Tipo 2: Escribir algo dentro de un documento HTML\n",
    "> ### Diseño de la página\n",
    "> - Título de la página: Ejercicio Tipo 2 (0.5)\n",
    "> - Título de contenido en H1: JavaScript para agregar texto en HTML(0.5)\n",
    "> - Aplique un color de fondo hexadecimal (0.5)\n",
    "> - Agregue un botón, que contenga el texto: \"Agregar texto\", con su respectivo id y evento el cual debe llamar a una función en el script(1.0)\n",
    ">\n",
    "> ### Funcionamiento del Script\n",
    "El script se acciona al presionar el botón, luego de esto debe aparecer un párrafo sobre un tema de su elección.\n",
    ">\n",
    "> Para lograrlo debe:\n",
    ">\n",
    "> - Definir correctamente dentro del script la función correspondiente (0.5)\n",
    "> - Buscar en internet un texto sobre un tema que le llame la atencion (1.0)\n",
    "> - incluir en la función el texto que buscó usando la sentencia correspondiente. (1.0)\n",
    ">\n",
    "> __Condición: este script no usa la sentencia document.getElementByID... En el Jupyter Sesion 2. Se trató este tema.__"
   ]
  },
  {
   "cell_type": "markdown",
   "metadata": {},
   "source": [
    "## Tipo 3: solicitar datos y uso de variables\n",
    "> ### Diseño de la página\n",
    "> - Título de la página: Ejercicio Tipo 3 (0.5)\n",
    "> - Título de contenido en H1: JavaScript para solicitar datos(0.5)\n",
    "> - Aplique un color de fondo hexadecimal (0.5)\n",
    "> - Agregue un botón, que contenga el texto: \"Necesitamos datos\", con su respectivo id y evento el cual debe llamar a una función en el script(1.0)\n",
    "> \n",
    "> ### Funcionamiento del Script\n",
    "El script se acciona al presionar el boton, inmediatamente debe aparecer una primera caja de texto solicitando el nombre del usuario, en seguida, aparece la segunda caja de texto solicitando un correo electrónico. Al dar enter en esta caja, aparece en una ventana emergente el mensaje: \n",
    ">\n",
    ">__\"Gracias {nombre de usuario}, pronto llegará la infomación a su correo {dirección de correo}__.\n",
    ">\n",
    "> Para lograrlo debe:\n",
    "> \n",
    "> - Definir correctamente dentro del script la función correspondiente (0.5)\n",
    "> - Definir correctamente dentro de la función las dos variables que necesita (una para el nombre, otra para el correo) (0.5)\n",
    "> - Usar la sentencia que permite mostrar el mensaje correspondiente <0.5>\n",
    "> - Mostrar correctamente el mensaje haciendo uso de las dos variables <1.0>\n",
    ">\n",
    "> __El tema se ha tratado a lo largo del periodo, el Jupyter de la sesión 2 puede serle util__."
   ]
  },
  {
   "cell_type": "markdown",
   "metadata": {},
   "source": [
    "## Tipo 4: uso de la estructura _if-else_ en diferentes contextos\n",
    "> ### Diseño de la página\n",
    "> - Título de la página: Ejercicio Tipo 4 (0.5)\n",
    "> - Título de contenido en H1: JavaScript para comprobar datos(0.5)\n",
    "> - Aplique un color de fondo hexadecimal (0.5)\n",
    "> - Escriba el texto: Comprobaremos si puedes aplicarte la vacuna contra el Papiloma Humano, éste debe estar entre las etiquetas< h2 > la cual debe tener su respectivo id. (0.5) \n",
    "> - Agregue un botón, que contenga el texto: \"Comprobar\", con su respectivo id y evento el cual debe llamar a una función en el script(0.5)\n",
    ">\n",
    "> ### Funcionamiento del Script\n",
    ">\n",
    "> Esta vacuna se aplica a las niñas de 12 años o menos, por lo cual al presionar el botón debe aparecer una caja de texto donde se solicite la edad, si la usuaria cumple con el requisito, el texto de la etiqueta H2 debe cambiar por: \"Puedes aplicarte la vacuna\". Por el contrario, en caso de no cumplir con la edad, el texto que debe aparecer en la etiqueta H2 es: \"no se recomendable que te apliques la vacuna\".\n",
    ">\n",
    "> Para lograrlo debe:\n",
    ">\n",
    "> - Definir correctamente dentro del script la función correspondiente (0.5)\n",
    "> - Definir correctamente dentro de la función la variable para la edad y usar la sentencia correspondiente para solicitar la información a través de la caja de texto. (0.5)\n",
    "> - Definir correctamente la estructura condicional que modifique con la sentencia correcta el texto en H2 (1.5)\n",
    ">\n",
    "> __El tema se trata en el Jupyter de la sesion 5__."
   ]
  },
  {
   "cell_type": "markdown",
   "metadata": {},
   "source": [
    "## Tipo 5: método Date() y estructuras condicionales\n",
    "> ### Diseño de la página\n",
    "> - Título de la página: Ejercicio Tipo 5 (0.5)\n",
    "> - Título de contenido en H1: JavaScript para comprobar fechas(0.5)\n",
    "> - Aplique un color de fondo hexadecimal (0.5)\n",
    "> - Agregue un botón, que contenga el texto: \"Pruebe que es un humano\", con su respectivo id y evento el cual debe llamar a una función en el script(0.5)\n",
    "> \n",
    "> ### Funcionamiento del Script\n",
    ">\n",
    "> Al presionar el botón deben aparecer dos cajas de texto, en la primera se le solicita el año actual, y en la segunda el mes en número. Si el usuario contesta adecuadamente: 2019 y 9 debe mostrar en una ventana emergente el mensaje: \"Prueba correcta\". En caso de ingresar mal alguno de los dos datos muestra el mensaje: \"No es correcto estamos en el año 2019, mes 9\". __Importante: En este ultimo mensaje, tanto 2019 y 9 deben ser tomados del metodo Date y no estar escritos directamente__.\n",
    ">\n",
    "> Para esto debe:\n",
    "> - Definir correctamente dentro del script la función correspondiente (0.5)\n",
    "> - Definir correctamente dentro de la función las dos variables que necesita (una para el año, otra para el mes) y usar la sentencia para pedir estos datos al usuario. (0.5)\n",
    "> - Definir correctamente los objetos de la clase Date encargados de obtener internamente el año y el mes (0.5)\n",
    "> - Definir corectamente la estructura condicional (0.5)\n",
    "> - Mostrar correctamente el mensaje cuando la condición se cumple (0.5)\n",
    "> - Mostrar correctamente el mensaje cuando la condición no se cumple (0.5)"
   ]
  }
 ],
 "metadata": {
  "hide_input": false,
  "kernelspec": {
   "display_name": "Python 3",
   "language": "python",
   "name": "python3"
  },
  "language_info": {
   "codemirror_mode": {
    "name": "ipython",
    "version": 3
   },
   "file_extension": ".py",
   "mimetype": "text/x-python",
   "name": "python",
   "nbconvert_exporter": "python",
   "pygments_lexer": "ipython3",
   "version": "3.7.3"
  },
  "toc": {
   "base_numbering": 1,
   "nav_menu": {},
   "number_sections": true,
   "sideBar": true,
   "skip_h1_title": false,
   "title_cell": "Table of Contents",
   "title_sidebar": "Contents",
   "toc_cell": false,
   "toc_position": {},
   "toc_section_display": true,
   "toc_window_display": true
  }
 },
 "nbformat": 4,
 "nbformat_minor": 2
}
