{
 "cells": [
  {
   "cell_type": "markdown",
   "metadata": {
    "toc": true
   },
   "source": [
    "<h1>Tabla de contenido<span class=\"tocSkip\"></span></h1>\n",
    "<div class=\"toc\"><ul class=\"toc-item\"><li><ul class=\"toc-item\"><li><ul class=\"toc-item\"><li><span><a href=\"#JavaScript-Sesion-5---Operadores-y-estructuras-condicionales\" data-toc-modified-id=\"JavaScript-Sesion-5---Operadores-y-estructuras-condicionales-0.0.1\"><span class=\"toc-item-num\">0.0.1&nbsp;&nbsp;</span>JavaScript Sesion 5 - Operadores y estructuras condicionales</a></span></li></ul></li></ul></li><li><span><a href=\"#Operadores\" data-toc-modified-id=\"Operadores-1\"><span class=\"toc-item-num\">1&nbsp;&nbsp;</span>Operadores</a></span><ul class=\"toc-item\"><li><span><a href=\"#Operador-de-Asignación-(=)\" data-toc-modified-id=\"Operador-de-Asignación-(=)-1.1\"><span class=\"toc-item-num\">1.1&nbsp;&nbsp;</span>Operador de Asignación (=)</a></span></li><li><span><a href=\"#Operadores-matemáticos\" data-toc-modified-id=\"Operadores-matemáticos-1.2\"><span class=\"toc-item-num\">1.2&nbsp;&nbsp;</span>Operadores matemáticos</a></span></li><li><span><a href=\"#Operadores-de-comparación-o-relacionales\" data-toc-modified-id=\"Operadores-de-comparación-o-relacionales-1.3\"><span class=\"toc-item-num\">1.3&nbsp;&nbsp;</span>Operadores de comparación o relacionales</a></span></li><li><span><a href=\"#Operadores-lógicos\" data-toc-modified-id=\"Operadores-lógicos-1.4\"><span class=\"toc-item-num\">1.4&nbsp;&nbsp;</span>Operadores lógicos</a></span></li></ul></li><li><span><a href=\"#Estructuras-condicionales\" data-toc-modified-id=\"Estructuras-condicionales-2\"><span class=\"toc-item-num\">2&nbsp;&nbsp;</span>Estructuras condicionales</a></span><ul class=\"toc-item\"><li><span><a href=\"#Sintaxis-de-la-sentencia-if\" data-toc-modified-id=\"Sintaxis-de-la-sentencia-if-2.1\"><span class=\"toc-item-num\">2.1&nbsp;&nbsp;</span>Sintaxis de la sentencia if</a></span></li><li><span><a href=\"#Sintaxis-de-la-sentencia-if-else\" data-toc-modified-id=\"Sintaxis-de-la-sentencia-if-else-2.2\"><span class=\"toc-item-num\">2.2&nbsp;&nbsp;</span>Sintaxis de la sentencia if else</a></span></li><li><span><a href=\"#Otros-usos-prácticos-de-la-sentencia-if-else-en-el-desarrollo-web\" data-toc-modified-id=\"Otros-usos-prácticos-de-la-sentencia-if-else-en-el-desarrollo-web-2.3\"><span class=\"toc-item-num\">2.3&nbsp;&nbsp;</span>Otros usos prácticos de la sentencia if else en el desarrollo web</a></span></li></ul></li><li><span><a href=\"#Ejercicio-en-clase-(captcha-sencillo)\" data-toc-modified-id=\"Ejercicio-en-clase-(captcha-sencillo)-3\"><span class=\"toc-item-num\">3&nbsp;&nbsp;</span>Ejercicio en clase (captcha sencillo)</a></span></li></ul></div>"
   ]
  },
  {
   "cell_type": "markdown",
   "metadata": {},
   "source": [
    "### JavaScript Sesion 5 - Operadores y estructuras condicionales\n",
    "__Profesor: Alexander Acevedo Gómez__ <br> __Ingeniero de Sistemas__ <br> __Colegio Antonio Baraya__"
   ]
  },
  {
   "cell_type": "markdown",
   "metadata": {},
   "source": [
    "# Operadores\n",
    "Cada tipo de operador tiene su función especial, su uso es inherente a ésta, es decir, un operador de asignación sólo es válido en contextos donde las valores son almacenandos en variables y no para comparar cantidades. Los operadores de JavaScript son:\n",
    "> ## Operador de Asignación (=)\n",
    "> Sirve para almacenar valores en variables. Por ejemplo si la variable A almacena el número 20 simplemente se escribe:<br>\n",
    "> $A=20$\n",
    "> ## Operadores matemáticos\n",
    "> |Operador|Descripción |\n",
    "| --- | --- |\n",
    "|  + | Suma |\n",
    "| * | Multiplicación |\n",
    "| ** | Potencia |\n",
    "| / | División |\n",
    "| % | Módulo (residuo de la división) |\n",
    "| ++ | Incremento |\n",
    "| -- | Decremento |\n",
    ">\n",
    "> El uso de estos operadores es trivial, salvo una aclaración sobre las potencias, cuando se eleva un número a un exponente, por ejemplo la variable A elevada a 2: $A^2$, se escribe:"
   ]
  },
  {
   "cell_type": "code",
   "execution_count": 3,
   "metadata": {},
   "outputs": [
    {
     "data": {
      "application/javascript": [
       "var A = 2;\n",
       "A ** 2;\n"
      ],
      "text/plain": [
       "<IPython.core.display.Javascript object>"
      ]
     },
     "metadata": {},
     "output_type": "display_data"
    }
   ],
   "source": [
    "%%javascript\n",
    "var A = 2;\n",
    "A ** 2;"
   ]
  },
  {
   "cell_type": "markdown",
   "metadata": {},
   "source": [
    "> La operación en la consola daría como resultado 4. 😉\n",
    ">\n",
    "> Los operadores aritméticos también pueden usarse con cadenas, el operador $+$, sirve para concatenar (unir) dos o más cadenas:"
   ]
  },
  {
   "cell_type": "code",
   "execution_count": 6,
   "metadata": {},
   "outputs": [
    {
     "data": {
      "application/javascript": [
       "var cadena1 = \"Si lo puedes imaginar\";\n",
       "var cadena2 = \"Lo puedes programar\";\n",
       "var cadena3 = cadena1 + cadena2;\n"
      ],
      "text/plain": [
       "<IPython.core.display.Javascript object>"
      ]
     },
     "metadata": {},
     "output_type": "display_data"
    }
   ],
   "source": [
    "%%javascript\n",
    "var cadena1 = \"Si lo puedes imaginar\";\n",
    "var cadena2 = \"Lo puedes programar\";\n",
    "var cadena3 = cadena1 + cadena2;"
   ]
  },
  {
   "cell_type": "markdown",
   "metadata": {},
   "source": [
    "> La variable _cadena3_ está uniendo los textos contenidos en las variables _cadena1_ y _cadena2_.\n",
    "> ## Operadores de comparación o relacionales\n",
    "> Sieven para establecer comparaciones entre variables, sentencias o expresiones de JavaScript. Generalmente éstos operadores son usados dentro de sentencias condicionales.\n",
    ">\n",
    "> Los operadores de comparación dan como resultado interno en JavaScrit:  _true_ (verdadero) o _false_ (falso).\n",
    ">\n",
    "> Suponga que $x = 5$, teniendo como referencia esto, observe la siguiente tabla: ([w3schools.com](https://www.w3schools.com/js/js_comparisons.asp))\n",
    ">\n",
    "> | Operador | Descripción                     | Uso       | Resultado |\n",
    "|----------|---------------------------------|-----------|-----------|\n",
    "| ==       | Igual a                         | x == 5    | true      |\n",
    "| ===      | Igual valor e igual tipo        | x === 5   | true      |\n",
    "| !=       | No es igual a                   | x != 8    | true      |\n",
    "| !==      | No es igual al valor o al tipo  | x !== 5   | false     |\n",
    "| >        | Mayor que                       | x > 2     | true      |\n",
    "| <        | Menor que                       | x < 5     | false     |\n",
    "| >=       | Mayor o igual que               | x >= 2    | true      |\n",
    "| <=       | Menor o igual que               | x <= 3    | false     |\n",
    ">\n",
    ">> __Aclaración__: cuando usamos el operador de asignacion = , estamos indicando a una variable que va a guardar un determinado valor, por ejemplo $x = 5$. Cuando usamos el operador de comparación ==, estamos pidiendo a JavaScript que compare el valor almacenado previamente en una variable con otro valor. En consecuencia, $x == 8$, dará como resultado _false_, debido a que el valor previamente guardado en dicha variable fue 5 y no 8.\n",
    "> ## Operadores lógicos\n",
    "> Son usados para determinar la lógica entre variables, valores, expresiones o condiciones, permitiendo enlazar unos con otros.\n",
    "<style type=\"text/css\">\n",
    ".tg  {border-collapse:collapse;border-spacing:0;}\n",
    ".tg td{font-family:Arial, sans-serif;font-size:14px;padding:10px 5px;border-style:solid;border-width:1px;overflow:hidden;word-break:normal;border-color:black;}\n",
    ".tg th{font-family:Arial, sans-serif;font-size:14px;font-weight:normal;padding:10px 5px;border-style:solid;border-width:1px;overflow:hidden;word-break:normal;border-color:black;}\n",
    ".tg .tg-dvid{font-weight:bold;background-color:#efefef;border-color:inherit;text-align:left;vertical-align:top}\n",
    ".tg .tg-0pky{border-color:inherit;text-align:left;vertical-align:top}\n",
    "</style>\n",
    "<table class=\"tg\">\n",
    "  <tr>\n",
    "    <th class=\"tg-dvid\">Operador</th>\n",
    "    <th class=\"tg-dvid\">Descripción</th>\n",
    "  </tr>\n",
    "  <tr>\n",
    "    <td class=\"tg-0pky\"> &amp;&amp;</td>\n",
    "    <td class=\"tg-0pky\">and (y)</td>\n",
    "  </tr>\n",
    "  <tr>\n",
    "    <td class=\"tg-0pky\">||</td>\n",
    "    <td class=\"tg-0pky\">or (o)</td>\n",
    "  </tr>\n",
    "  <tr>\n",
    "    <td class=\"tg-0pky\">!</td>\n",
    "    <td class=\"tg-0pky\">not (no es)</td>\n",
    "  </tr>\n",
    "</table>\n"
   ]
  },
  {
   "cell_type": "markdown",
   "metadata": {},
   "source": [
    "# Estructuras condicionales\n",
    "Las sentencias condicionales permiten realizar diferentes operaciones en JavaScript, la mayoría de ellas relacionadas con toma de deciciones y las acciones para realizar según el caso. Una decisión siempre debe dar como resultado interno _true_ o _false_.\n",
    "\n",
    "En JavaScript existen cuatro sentencias condicionales:\n",
    "- __if__, acompañada de un bloque de código para evaluarse, si la condición especificada es verdadera.\n",
    "- __else__, acompañada de un bloque de código para ejecturarse en caso de ser la condición falsa.\n",
    "- __else if__, espeficifica una nueva condición para ser evaluada si la primera condición es falsa.\n",
    "- __switch__, especifica muchos bloques de códigos alternativos que se evaluaran.\n",
    "\n",
    ">## Sintaxis de la sentencia if\n",
    ">Cuando se usa _if_, sólo se ejecutan acciones si la condición es verdadera, en caso de ser falsa no se realiza ninguna acción. La sintaxis de la estructura _if_ es:"
   ]
  },
  {
   "cell_type": "raw",
   "metadata": {},
   "source": [
    "if (condición) {\n",
    "// bloque de código que será ejecutado si la condición es verdadera\n",
    "}"
   ]
  },
  {
   "cell_type": "markdown",
   "metadata": {},
   "source": [
    "> La condición debe ir entre paréntesis, en la mayoría de veces se usan los operadores de comparación para evaluar la expresión. Seguido y entre llaves se escriben las instrucciones a ejecutar en caso de ser la condición verdadera.\n",
    ">\n",
    ">## Sintaxis de la sentencia if else\n",
    "> Al usar esta sentencia se ejecutan acciones tanto si la condición es verdadera como si es falsa. La sintaxis es:"
   ]
  },
  {
   "cell_type": "raw",
   "metadata": {},
   "source": [
    "if (condición) {\n",
    "// bloque de código que será ejecutado si la condición es verdadera\n",
    "}\n",
    "else {\n",
    "// bloque de código que será ejecutado si la condición es falsa\n",
    "}"
   ]
  },
  {
   "cell_type": "markdown",
   "metadata": {},
   "source": [
    "> __Ejemplo__: en Colombia para ejercer el derecho al voto los ciudadanos deben tener 18 años o más, en el siguiente código se diseña una página web que le pregunta al usuario su edad, evalúa la respuesta y entrega un mensaje indicando si éste puede o no votar.\n",
    ">\n",
    "> En primer lugar, se escriben las etiquetas HTML correspondientes:"
   ]
  },
  {
   "cell_type": "code",
   "execution_count": 12,
   "metadata": {},
   "outputs": [
    {
     "data": {
      "text/html": [
       "<html>\n",
       "<body>\n",
       "<h1 id=\"mensaje\"> Comprobación de derecho a voto </h1>\n",
       "<button id=\"Miboton\" onclick=\"verificar()\">Verificar edad</button>\n",
       "<script>\n",
       "\n",
       "</script>\n",
       "</body>\n",
       "</html>\n"
      ],
      "text/plain": [
       "<IPython.core.display.HTML object>"
      ]
     },
     "metadata": {},
     "output_type": "display_data"
    }
   ],
   "source": [
    "%%html\n",
    "<html>\n",
    "<body>\n",
    "<h1 id=\"mensaje\"> Comprobación de derecho a voto </h1>\n",
    "<button id=\"Miboton\" onclick=\"verificar()\">Verificar edad</button>\n",
    "<script>\n",
    "\n",
    "</script>\n",
    "</body>\n",
    "</html>"
   ]
  },
  {
   "cell_type": "markdown",
   "metadata": {},
   "source": [
    ">En seguida se agrega el script, éste se activa al llamar a la función _verificar()_ cuando se presiona el botón. Escriba entre las etiquetas correspondientes:"
   ]
  },
  {
   "cell_type": "code",
   "execution_count": 13,
   "metadata": {},
   "outputs": [
    {
     "data": {
      "application/javascript": [
       "\n",
       "function verificar(){\n",
       "    var edad = prompt(\"Ingresa tu edad\");\n",
       "    if (edad >= 18){\n",
       "        document.getElementById(\"mensaje\").innerHTML = \"Cumples con la edad para votar\";\n",
       "    }\n",
       "    else {\n",
       "        document.getElementById(\"mensaje\").innerHTML = \"Aún no puedes votar\";\n",
       "    }\n",
       "}\n"
      ],
      "text/plain": [
       "<IPython.core.display.Javascript object>"
      ]
     },
     "metadata": {},
     "output_type": "display_data"
    }
   ],
   "source": [
    "%%javascript\n",
    "\n",
    "function verificar(){\n",
    "    var miedad = prompt(\"Ingresa tu edad\");\n",
    "    if (miedad >= 18){\n",
    "        document.getElementById(\"mensaje\").innerHTML = \"Cumples con la edad para votar\";\n",
    "    }\n",
    "    else {\n",
    "        document.getElementById(\"mensaje\").innerHTML = \"Aún no puedes votar\";\n",
    "    }\n",
    "}"
   ]
  },
  {
   "cell_type": "markdown",
   "metadata": {},
   "source": [
    "> __Explicación__: \n",
    ">\n",
    "> - La función pregunta la edad al usuario y su respuesta la almacena en la variable _miedad_.\n",
    "> - Usando la sentencia _if else_, se comprueba si el valor dado por el usuario es mayor o igual a 18.\n",
    "> - En caso de ser verdadero se modifica el elemento H1 con el mensaje: \"Cumples con la edad para votar\".\n",
    "> - Por el contrario, si la respuesta es un número inferior a 18, se escribe el mensaje: \"Aún no puedes votar\".\n",
    ">\n",
    "> Una sentencia _if else_ puede tener más de una condición, se enlazan unas con otras usando los operadores lógicos _and_(y) u _or_(o) mostrados arriba.\n",
    ">\n",
    ">__Ejercicio__:\n",
    "> Modifique el código anterior para además de preguntar la edad, solicite si es un ciudadano colombiano.\n",
    "\n",
    ">## Otros usos prácticos de la sentencia if else en el desarrollo web\n",
    ">En el campo de la programación el 99% de los programas de escritorio, aplicaciones móviles y software en general incorporan dentro de su código sentencias _if else_. El desarrollo web no es la excepción,  muchas páginas de internet para controlar el spam o el uso de _bots_ que pueden hacer caer los servidores, incorporan sistemas de CAPTCHA (en español: prueba de Turing completamente automática y pública para diferenciar ordenadores de humanos) éstas incorporan estructuras condicionales.\n",
    "# Ejercicio en clase (captcha sencillo)\n",
    "Debe hacer una página web que verifique la edad de los usuarios, ésta debe ser igual o mayor a 18 para poder ingresar al contenido 😏, para esto:\n",
    "1. Al presionar un botón se le pregunta al usuario su año de nacimiento.\n",
    "2. El script con esta información debe calcular la edad\n",
    "3. Si el usuario tiene 18 años o más se muestra un mensaje de bienvenida dentro de la página.\n",
    "4. Si por el contrario no cumple con este requisito aparece un mensaje emergente indicando que no puede acceder y además la ventana se debe cerrar. Use la sentencia _window.close()_ para lograr esto.\n",
    "5. Guarde su archivo como es habitual.\n",
    "\n",
    "Conteste las preguntas requeridas en ABACO"
   ]
  }
 ],
 "metadata": {
  "hide_input": false,
  "kernelspec": {
   "display_name": "Python 3",
   "language": "python",
   "name": "python3"
  },
  "language_info": {
   "codemirror_mode": {
    "name": "ipython",
    "version": 3
   },
   "file_extension": ".py",
   "mimetype": "text/x-python",
   "name": "python",
   "nbconvert_exporter": "python",
   "pygments_lexer": "ipython3",
   "version": "3.7.3"
  },
  "toc": {
   "base_numbering": 1,
   "nav_menu": {},
   "number_sections": true,
   "sideBar": true,
   "skip_h1_title": false,
   "title_cell": "Tabla de contenido",
   "title_sidebar": "Contents",
   "toc_cell": true,
   "toc_position": {
    "height": "calc(100% - 180px)",
    "left": "10px",
    "top": "150px",
    "width": "307.2px"
   },
   "toc_section_display": true,
   "toc_window_display": true
  }
 },
 "nbformat": 4,
 "nbformat_minor": 2
}
