{
 "cells": [
  {
   "cell_type": "markdown",
   "metadata": {},
   "source": [
    "### JavaScript Sesión 4 - Objetos propios de JavaScript <br>\n",
    "__Profesor: Alexander Acevedo Gómez__ <br> __Ingeniero de Sistemas__ <br> __Colegio Antonio Baraya__\n",
    "\n",
    "Fuente [w3schools.com](https://www.w3schools.com/js/js_date_formats.asp)"
   ]
  },
  {
   "cell_type": "markdown",
   "metadata": {},
   "source": [
    "# Objetos Propios de JavaScript - Date()\n",
    "__Los objetos__ son variables en cierta forma, pero a diferencia de éstas, los objetos pueden contener muchos valores, mostrar uno u otro depende del método del objeto que se invoque. En JavaScript podemos crear nuestros propios objetos, adicionalmente el lenguaje también tiene objetos predefinidos. \n",
    "\n",
    "__Los métodos__ permiten ejecutar funciones propias de cada objeto,  o heredar funciones de otros objetos, éstas realizan diferentes operaciones y por lo tanto, reportan a su vez diferentes valores.\n",
    "\n",
    "Algunos de los objetos con sus métodos propios de JavaScript son:\n",
    "- Strings (cadenas)\n",
    "- Numbers (números)\n",
    "- Arrays (arreglos - listas)\n",
    "- Dates (fecha y hora)\n",
    "- Math (matemática)\n",
    "\n",
    "## Objeto Date - Definición\n",
    "Como su nombre lo indica, este objeto trabaja con fechas y horas, es útil para mostrar en diferentes formatos la hora y la fecha actual capturada del usuario. Es útil para diferentes tareas, por ejemplo: crear una página que capture la hora actual y le indique al usuario antes de cerrar sesión el tiempo que estuvo activo, deshabilitar ciertos enlaces después de transcurrida una fecha, verificar el año de nacimiento, comprobar cuando fue enviado un archivo, realizar un temporizador de cuenta regresiva, entre muchos otros. \n",
    "> ### Mostrar la hora y fecha actual\n",
    "> Simplemente se realiza asignando a una variable la sentencia _Date()_. Por ejemplo: el siguiente código almacena la fecha y hora del usuario en la variable _hoy_, luego la muestra en una ventana emergente (ejecute en la consola f12): "
   ]
  },
  {
   "cell_type": "code",
   "execution_count": null,
   "metadata": {
    "deletable": false,
    "editable": false,
    "scrolled": true
   },
   "outputs": [],
   "source": [
    "%%javascript\n",
    "var hoy = Date();\n",
    "window.alert(hoy);"
   ]
  },
  {
   "cell_type": "markdown",
   "metadata": {},
   "source": [
    "## Usando funciones para invocar objetos de tipo Date( )\n",
    "De la misma forma como se detalló en la sesión anterior, podemos usar funciones que respondan a eventos donde se involucre el objeto Date y algunos de sus métodos.\n",
    "> ### Escribiendo dentro de un elemento HTML la fecha y hora actuales\n",
    "> Ya se conocen algunos de los mecanismos con los cuales se pueden modificar elementos HTML al asociarlos con eventos que  llaman funciones, similarmente se puede aplicar la misma técnica para invocar el objeto Date o algunos de sus métodos.\n",
    "> \n",
    ">El siguiente ejemplo,  muestra un elemento H2 con su respectivo identificador, el cual servirá para escribir dentro de éste la hora y fecha actuales."
   ]
  },
  {
   "cell_type": "code",
   "execution_count": null,
   "metadata": {
    "deletable": false,
    "editable": false
   },
   "outputs": [],
   "source": [
    "%%html\n",
    "<html>\n",
    "<body>\n",
    "<h2 id=\"tiempo\"> Vamos a mostrar la fecha </h2>\n",
    "\n",
    "<script>\n",
    "var hoy = Date();\n",
    "document.getElementById(\"tiempo\").innerHTML = hoy;\n",
    "</script>\n",
    "\n",
    "</body>\n",
    "</html>"
   ]
  },
  {
   "cell_type": "markdown",
   "metadata": {},
   "source": [
    "> ### Usando botones para mostrar fechas \n",
    ">También se puede crear un botón que al presionarlo llame a una función encargada de mostrar  la fecha, se siguen los mismos pasos presentados en la sesión anterior, lo primero es construir el botón usando HTML:"
   ]
  },
  {
   "cell_type": "code",
   "execution_count": null,
   "metadata": {},
   "outputs": [],
   "source": [
    "%%html\n",
    "<html>\n",
    "<head> Funciones y botones que muestran la fecha </head>\n",
    "<body>\n",
    "<button type=\"button\" onclick= \"diaHoy()\" id=\"boton\">\n",
    "Haz clic para mostrar la fecha y la hora\n",
    "</button>\n",
    "</body>\n",
    "</html>"
   ]
  },
  {
   "cell_type": "markdown",
   "metadata": {},
   "source": [
    "> En el código, se crea el botón usando la etiqueta correspondiente, éste hace uso del evento _\"onclick\"_, el cual define la acción a realizar cuando el botón es presionado, en este caso, se llama a la función _\"diaHoy\"_.\n",
    ">\n",
    "> En seguida, se crea el código para JavaScript, éste se encargará de cambiar el texto del botón por la fecha actual, usando los identificadores:"
   ]
  },
  {
   "cell_type": "code",
   "execution_count": null,
   "metadata": {},
   "outputs": [],
   "source": [
    "%%html\n",
    "<script>\n",
    "function diaHoy(){\n",
    "    document.getElementById('boton').innerHTML = Date();    \n",
    "}\n",
    "</script>"
   ]
  },
  {
   "cell_type": "markdown",
   "metadata": {},
   "source": [
    "> Como se observa, usando el método ___document.getElementByID___ visto anteriormente, sirve para cambiar el texto del botón por el usado en el objeto _Date()_. "
   ]
  },
  {
   "cell_type": "markdown",
   "metadata": {},
   "source": [
    "## Obteniendo diferentes formatos de fechas - métodos de captura (get)\n",
    "Hasta ahora se ha visto como el método _Date()_ sirve para mostrar la fecha y hora en una cadena con información completa, incluyendo: el mes, dia, año, hora, minutos, segundos y la zona horaria del usuario. Sin embargo, esto se puede modificar para seleccionar sólo cierta información útil o necesaria según el contexto de nuestro código.\n",
    "\n",
    "Estos tipos de métodos se utilizan creando un objeto de tipo Date, usando la palabra reservada __new__. __Es la única manera de poder acceder a los métodos que se enuncian a continuación.__"
   ]
  },
  {
   "cell_type": "code",
   "execution_count": null,
   "metadata": {},
   "outputs": [],
   "source": [
    "%%javascript\n",
    "dia = new Date();"
   ]
  },
  {
   "cell_type": "markdown",
   "metadata": {},
   "source": [
    "Se crea un objeto __dia__ (instancia) de la clase __Date()__, el cual ahora hereda todos los metodos pertenecientes a este clase.\n",
    "> __Aclaración__: la palabra _clase_ en programación, se refiere a una técnica en la cual el mundo se divide en diferentes  categorías, estas categorías contienen determinados atributos(características) llamados métodos, los objetos son \"cosas\" pertenecientes a una categoría o clase, los cuales _heredan_ los métodos de su clase. Estos conceptos pertenecen al paradigma de la _Programación orientada a objetos (OOP en inglés)_, el objetivo de este curso no es profundizar en esta técnica de programación, pero es importante tener claros los terminos mencionados.\n",
    ">\n",
    "> ### getFullYear()\n",
    "> Obtiene el año en formato de cuatro digitos, pruebe en la consola:"
   ]
  },
  {
   "cell_type": "code",
   "execution_count": null,
   "metadata": {},
   "outputs": [],
   "source": [
    "%%javascript\n",
    "dia.getFullYear();"
   ]
  },
  {
   "cell_type": "markdown",
   "metadata": {},
   "source": [
    " > Aparece el año actual completo 👍\n",
    " >### getMonth()\n",
    " > Muestra el mes en formato de un número de 1 a 12:"
   ]
  },
  {
   "cell_type": "code",
   "execution_count": null,
   "metadata": {},
   "outputs": [],
   "source": [
    "%%javascript\n",
    "dia.getMonth();"
   ]
  },
  {
   "cell_type": "markdown",
   "metadata": {},
   "source": [
    "> ### getDate()\n",
    "> Muestra el día en formato de un número (1-31)"
   ]
  },
  {
   "cell_type": "code",
   "execution_count": null,
   "metadata": {},
   "outputs": [],
   "source": [
    "%%javascript\n",
    "dia.getDate();"
   ]
  },
  {
   "cell_type": "markdown",
   "metadata": {},
   "source": [
    "> ### getMinutes()\n",
    "Muestra los minutos en formato de un número de 0 a 59:"
   ]
  },
  {
   "cell_type": "code",
   "execution_count": null,
   "metadata": {},
   "outputs": [],
   "source": [
    "%%javascript\n",
    "dia.getMinutes();"
   ]
  },
  {
   "cell_type": "markdown",
   "metadata": {},
   "source": [
    "> ### getDay()\n",
    "> Muestra el dia de la semana como un número de 0 a 6, siendo 0 el día domingo:"
   ]
  },
  {
   "cell_type": "code",
   "execution_count": null,
   "metadata": {},
   "outputs": [],
   "source": [
    "%%javascript\n",
    "dia.getDay();"
   ]
  },
  {
   "cell_type": "markdown",
   "metadata": {},
   "source": [
    "## Ejercicio\n",
    "En un nuevo bloc de notas:\n",
    "1. Cree tres botones, con su respectivo identificador, deben mostrar respectivamente los siguientes textos: Mes, dia, Año\n",
    "2. Al hacer clic en cada botón se debe cambiar los textos por el valor que representan, tenga en cuenta que cada botón debe llamar a una función diferente.\n",
    "3. Escriba el código en JavaScript con las funciones correspondientes.\n",
    "\n",
    "Suba el archivo a la plataforma, guárdelo con el formato:\n",
    "__apellidoEst1_apellidoEst2_curso.html__\n",
    "4. Responda directamente en la plataforma la pregunta que se le indica."
   ]
  }
 ],
 "metadata": {
  "hide_input": false,
  "kernelspec": {
   "display_name": "Python 3",
   "language": "python",
   "name": "python3"
  },
  "language_info": {
   "codemirror_mode": {
    "name": "ipython",
    "version": 3
   },
   "file_extension": ".py",
   "mimetype": "text/x-python",
   "name": "python",
   "nbconvert_exporter": "python",
   "pygments_lexer": "ipython3",
   "version": "3.7.3"
  },
  "toc": {
   "base_numbering": 1,
   "nav_menu": {
    "height": "243px",
    "width": "346px"
   },
   "number_sections": true,
   "sideBar": true,
   "skip_h1_title": false,
   "title_cell": "Table of Contents",
   "title_sidebar": "Contents",
   "toc_cell": false,
   "toc_position": {
    "height": "calc(100% - 180px)",
    "left": "10px",
    "top": "150px",
    "width": "307.2px"
   },
   "toc_section_display": true,
   "toc_window_display": true
  }
 },
 "nbformat": 4,
 "nbformat_minor": 2
}
