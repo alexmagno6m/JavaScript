{
 "cells": [
  {
   "cell_type": "markdown",
   "metadata": {},
   "source": [
    "# Nivelación Informática 3 Bimestre\n",
    "El proceso de nivelación constará de dos partes: una teórica y otra práctica. Para cumplir con éxito en ámbos casos usted deberá preparar lo siguiente:\n",
    "## Parte teórica\n",
    "Lea los Jupyter Notebook del periodo, después de esto, debería estar en capacidad de sustentar oralmente alguno de los temas, se le pueden formular preguntas como:\n",
    "\n",
    "- ¿Cuál es el significado de la frase \"_JavaScript es un lenguaje del lado del cliente o del usuario_\"?.\n",
    "- ¿Qué función cumplen los diferentes comandos de JavaScript?, por ejemplo: console.log, prompt, document.getElementById().innerHTML, etc.\n",
    "- ¿Qué es una variable, cómo se definen en JavaScript?\n",
    "- ¿Cómo se define una función en JavaScript, cuáles son sus partes, que son los parámetros en una función, cómo se invoca?\n",
    "- ¿Por qué se recomienda usar las funciones como valores de variables?\n",
    "- ¿Cuál es la ventaja de usar funciones?\n",
    "- Nombrar y diferenciar los tipos de operadores de JavaScript: aritméticos, comparación, asignación y lógicos.\n",
    "- Conocer y justificar el uso de los operadores (==) y (=), saber en qué casos usar uno u otro.\n",
    "- ¿Qué son los eventos en JavaScript?\n",
    "\n",
    "\n",
    "## Parte práctica\n",
    "\n",
    "Deberá estar en capacidad de poder resolver uno o más ejercicios donde puede emplear Java:\n",
    "\n",
    "- Usar estructuras condicionales _if - else_.\n",
    "- Formular correctamente condiciones en términos de los operadores de comparación, por ejemplo, plantear en términos matemáticos situaciones como: A es mayor que 15, B debe ser mínimo de 40, C no puede superar 30.\n",
    "- Realizar un uso apropiado de funciones\n",
    "- Usar JavaScript para:\n",
    "> - Modificar la apariencia de elementos HTML\n",
    "> - Aplicar funciones a botones\n",
    "> - Usar objetos de tipo Date()\n",
    "> - Modificar algo dentro de un elemento HTML\n",
    "> - Esribir dentro de un documento HTML \n",
    "\n"
   ]
  },
  {
   "cell_type": "code",
   "execution_count": null,
   "metadata": {},
   "outputs": [],
   "source": []
  }
 ],
 "metadata": {
  "hide_input": false,
  "kernelspec": {
   "display_name": "Python 3",
   "language": "python",
   "name": "python3"
  },
  "language_info": {
   "codemirror_mode": {
    "name": "ipython",
    "version": 3
   },
   "file_extension": ".py",
   "mimetype": "text/x-python",
   "name": "python",
   "nbconvert_exporter": "python",
   "pygments_lexer": "ipython3",
   "version": "3.7.3"
  },
  "toc": {
   "base_numbering": 1,
   "nav_menu": {},
   "number_sections": true,
   "sideBar": true,
   "skip_h1_title": false,
   "title_cell": "Table of Contents",
   "title_sidebar": "Contents",
   "toc_cell": false,
   "toc_position": {},
   "toc_section_display": true,
   "toc_window_display": true
  }
 },
 "nbformat": 4,
 "nbformat_minor": 2
}
