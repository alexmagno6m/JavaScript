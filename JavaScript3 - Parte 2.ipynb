{
 "cells": [
  {
   "cell_type": "markdown",
   "metadata": {},
   "source": [
    "### JavaScript Sesión 3 - Parte 2 Aplicación <br> Profesor: Alexander Acevedo Gómez <br> Ingeniero de Sistemas <br> Colegio Antonio Baraya"
   ]
  },
  {
   "cell_type": "markdown",
   "metadata": {},
   "source": [
    "# Funciones para lanzar eventos en los elementos HTML #\n",
    "Los eventos son reacciones que ocurren en los elementos HTML al realizar alguna acción con el mouse o el teclado, algunos ejemplos de eventos son:(fuente: [w3schools.com](https://www.w3schools.com/js/js_htmldom_events.asp))\n",
    "\n",
    "- Cambiar de color un texto\n",
    "- Cambiar el texto de un boton\n",
    "- Cuando un usuario hace clic con el mouse\n",
    "- Cuando una página web se ha cargado\n",
    "- Cuando una imagen ha sido cargada\n",
    "- Cuando el ratón se mueve sobre un elemento.\n",
    "- Cuando se cambia un campo de entrada\n",
    "- Cuando se envía un formulario HTML\n",
    "- Cuando un usuario pulsa una tecl\n",
    "\n",
    "> ## Modificando la apariencia de un elemento\n",
    "> En el siguiente ejemplo se ilustra como através de una función podemos llamar un evento que cambie el texto de una etiqueta H2.\n",
    "> En el bloc de notas copiamos el siguiente código:"
   ]
  },
  {
   "cell_type": "code",
   "execution_count": null,
   "metadata": {
    "deletable": false,
    "editable": false
   },
   "outputs": [],
   "source": [
    "%%html\n",
    "<html>\n",
    "<body>\n",
    "<h2 onclick=\"cambiame(this)\">Haz clic en este texto :)</h2>\n",
    "</body>\n",
    "</html>"
   ]
  },
  {
   "cell_type": "markdown",
   "metadata": {},
   "source": [
    ">> ### Descripción del código: \n",
    ">> -  __Evento onclick__: este evento reacciona al hacer clic con el mouse sobre el elemento en cuestión. El evento por lo general debe llamar una función, ___cambiame___ en el ejemplo.\n",
    ">>\n",
    ">> -  __this__: A la función se la pasa el parámetro  _this_ el cual es una palabra reservada e indica que ese elemento será el afectado por el evento y servirá como un auto-identificador para él mismo.\n",
    ">>\n",
    ">>A continuación, se agrega el script con la función _cambiame_ que será la encargada de modificar el elemento h2:"
   ]
  },
  {
   "cell_type": "code",
   "execution_count": null,
   "metadata": {},
   "outputs": [],
   "source": [
    "%%html\n",
    "<script>\n",
    "function cambiame(id) { \n",
    "  id.innerHTML = \"Super!\";\n",
    "}\n",
    "</script>"
   ]
  },
  {
   "cell_type": "markdown",
   "metadata": {},
   "source": [
    ">> - La función recibe como parámetro el identificador el cual como se explicó corresponde al mismo elemento H2 <br>\n",
    ">> - __id__: Se ejecuta la sentencia _id_ para modificar algo dentro de ese identificador.\n",
    ">>\n",
    ">> - __innerHTML__: Se llama el método _innerHTML_ el cual es usado para modificar el texto dentro de un elemento, en este caso se cambia por _\"Super!\"_.\n",
    "> ## Botones que realizan acciones\n",
    "> Los botones adquieren su real significado cuando son usados en conjunto con funciones. Pueden realizar una gama amplia de acciones según el contexto de la página web que estemos desarrollando. \n",
    ">>Para el siguiente ejemplo se creará un botón en HTML que al hacer clic muestre una ventana de bienvenida y cambie el texto del botón. En primer lugar se debe escribir el código que creará el botón:"
   ]
  },
  {
   "cell_type": "code",
   "execution_count": null,
   "metadata": {
    "deletable": false,
    "editable": false
   },
   "outputs": [],
   "source": [
    "%%html\n",
    "<html>\n",
    "<body>\n",
    "\n",
    "<button id=\"Miboton\" onclick=\"miFuncion()\">Prueba esto</button>\n",
    "</body>\n",
    "</html>"
   ]
  },
  {
   "attachments": {
    "ejemploboton.PNG": {
     "image/png": "[encoded data removed]"
    }
   },
   "cell_type": "markdown",
   "metadata": {},
   "source": [
    ">>El botón debe lucir así:\n",
    "![ejemploboton.PNG](attachment:ejemploboton.PNG)\n",
    ">>### Descripción del código\n",
    ">> -  __button__: es una etiqueta de HTML que sirve para crear botones, éste tendra el identificador _Miboton_\n",
    ">> - __onclick__: este evento llamará la función _miFuncion_ encargada de realizar una acción cuando el usuario haga clic con el mouse. El botón muestra como texto: _Prueba esto_.\n",
    ">>\n",
    ">> El código de la función es el siguiente:"
   ]
  },
  {
   "cell_type": "code",
   "execution_count": 10,
   "metadata": {
    "deletable": false,
    "editable": false
   },
   "outputs": [
    {
     "data": {
      "text/html": [
       "<script>\n",
       "function miFuncion() {\n",
       "  document.getElementById(\"Miboton\").innerHTML = \"facil!\";\t\n",
       "  window.alert(\"Hola!\");\n",
       "  }\n",
       "</script>\n"
      ],
      "text/plain": [
       "<IPython.core.display.HTML object>"
      ]
     },
     "metadata": {},
     "output_type": "display_data"
    }
   ],
   "source": [
    "%%html\n",
    "<script>\n",
    "function miFuncion() {\n",
    "  document.getElementById(\"Miboton\").innerHTML = \"facil!\";\n",
    "  window.alert(\"Hola!\");\n",
    "  }\n",
    "</script>"
   ]
  },
  {
   "cell_type": "markdown",
   "metadata": {},
   "source": [
    ">> - Usando el método __document.getElementById__, se llama el elemento identificado como: _Miboton_.\n",
    ">> - Se cambia el texto de este elemento por: \"facil!\"\n",
    ">> - Finalmente, usando la sentencia __window.alert__ se crea una ventana emergente con el texto: \"Hola!\""
   ]
  },
  {
   "cell_type": "markdown",
   "metadata": {},
   "source": [
    "> ## Ejercicio\n",
    "> En el mismo bloc de notas del ejemplo realice lo siguiente:\n",
    "> - Cree un nuevo botón, asígnele un identificador\n",
    "> - El botón debe llamar una función que pregunte por su canción favorita (use prompt)\n",
    "> - Luego con esta información, debe cambiarse el texto del botón por el nombre de la canción.\n",
    "> - Guarde el documento con el nombre: ApellidoEst1_ApellidoEst2_curso.__html__<br>\n",
    "> Por ejemplo: Acevedo_Torres_1101.__html__ y súbalo a la plataforma en la actividad 3 de JavaScript."
   ]
  }
 ],
 "metadata": {
  "hide_input": false,
  "kernelspec": {
   "display_name": "Python 3",
   "language": "python",
   "name": "python3"
  },
  "language_info": {
   "codemirror_mode": {
    "name": "ipython",
    "version": 3
   },
   "file_extension": ".py",
   "mimetype": "text/x-python",
   "name": "python",
   "nbconvert_exporter": "python",
   "pygments_lexer": "ipython3",
   "version": "3.7.3"
  }
 },
 "nbformat": 4,
 "nbformat_minor": 2
}
