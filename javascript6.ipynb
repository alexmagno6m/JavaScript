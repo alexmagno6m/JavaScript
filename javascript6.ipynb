{
 "cells": [
  {
   "cell_type": "markdown",
   "metadata": {
    "toc": true
   },
   "source": [
    "<h1>Table of Contents<span class=\"tocSkip\"></span></h1>\n",
    "<div class=\"toc\"><ul class=\"toc-item\"><li><ul class=\"toc-item\"><li><ul class=\"toc-item\"><li><span><a href=\"#JavaScript-Sesion-6---DOM\" data-toc-modified-id=\"JavaScript-Sesion-6---DOM-0.0.1\"><span class=\"toc-item-num\">0.0.1&nbsp;&nbsp;</span>JavaScript Sesion 6 - DOM</a></span></li></ul></li></ul></li><li><span><a href=\"#DOM---Definición\" data-toc-modified-id=\"DOM---Definición-1\"><span class=\"toc-item-num\">1&nbsp;&nbsp;</span>DOM - Definición</a></span></li><li><span><a href=\"#DOM---Programación-con-JavaScript\" data-toc-modified-id=\"DOM---Programación-con-JavaScript-2\"><span class=\"toc-item-num\">2&nbsp;&nbsp;</span>DOM - Programación con JavaScript</a></span></li><li><span><a href=\"#DOM---Obteniendo-valores-de-elementos-HTML\" data-toc-modified-id=\"DOM---Obteniendo-valores-de-elementos-HTML-3\"><span class=\"toc-item-num\">3&nbsp;&nbsp;</span>DOM - Obteniendo valores de elementos HTML</a></span><ul class=\"toc-item\"><li><span><a href=\"#Descripción\" data-toc-modified-id=\"Descripción-3.1\"><span class=\"toc-item-num\">3.1&nbsp;&nbsp;</span>Descripción</a></span></li></ul></li><li><span><a href=\"#DOM---Encontrando-elementos-por-su-etiqueta-(tag-name)\" data-toc-modified-id=\"DOM---Encontrando-elementos-por-su-etiqueta-(tag-name)-4\"><span class=\"toc-item-num\">4&nbsp;&nbsp;</span>DOM - Encontrando elementos por su etiqueta (tag name)</a></span><ul class=\"toc-item\"><li><span><a href=\"#Método-document.getElementByTagName\" data-toc-modified-id=\"Método-document.getElementByTagName-4.1\"><span class=\"toc-item-num\">4.1&nbsp;&nbsp;</span>Método document.getElementByTagName</a></span></li><li><span><a href=\"#Ejemplo\" data-toc-modified-id=\"Ejemplo-4.2\"><span class=\"toc-item-num\">4.2&nbsp;&nbsp;</span>Ejemplo</a></span></li><li><span><a href=\"#Descripción\" data-toc-modified-id=\"Descripción-4.3\"><span class=\"toc-item-num\">4.3&nbsp;&nbsp;</span>Descripción</a></span></li></ul></li><li><span><a href=\"#Ejercicio\" data-toc-modified-id=\"Ejercicio-5\"><span class=\"toc-item-num\">5&nbsp;&nbsp;</span>Ejercicio</a></span></li></ul></div>"
   ]
  },
  {
   "cell_type": "markdown",
   "metadata": {},
   "source": [
    "### JavaScript Sesion 6 - DOM\n",
    "__Profesor: Alexander Acevedo Gómez__ <br> __Ingeniero de Sistemas__ <br> __Colegio Antonio Baraya__"
   ]
  },
  {
   "attachments": {
    "pic_htmltree.gif": {
     "image/gif": "[encoded data removed]"
    }
   },
   "cell_type": "markdown",
   "metadata": {},
   "source": [
    "# DOM - Definición\n",
    ">El modelo de objetos de un documento o DOM en inglés, hace referencia a la manera como el browser (Chrome, Firefox, Edge, etc) crea la estructura de todos los elementos HTML de una página web. Dentro de éstos objetos encontramos: encabezados, botones, párrafos, tablas, imágenes y demás etiquetas que pueden usar un _id_. [w3schools.com](https://www.w3schools.com/js/js_htmldom.asp)\n",
    "\n",
    "![pic_htmltree.gif](attachment:pic_htmltree.gif)\n",
    "\n",
    ">JavaScript puede modificar muchos atributos de las etiquetas HTML pertenecientes a DOM, su apariencia, su contenido, la manera como interacciona con el usuario o con otras etiquetas.\n",
    "\n",
    "# DOM - Programación con JavaScript\n",
    ">  Los objetos DOM tienen dos parámetros básicos:\n",
    ">\n",
    "> - __Metodos__: corresponde a la acción que JavaScript puede efectuar con el objeto.\n",
    "> - __Propiedades__: es un valor al cual podemos acceder (get) o establecer (set) dentro del objeto.\n",
    ">\n",
    "> En la sentencia:"
   ]
  },
  {
   "cell_type": "code",
   "execution_count": null,
   "metadata": {},
   "outputs": [],
   "source": [
    "%%html\n",
    "<script>\n",
    "document.getElementById(\"algo\").innerHTML = \"Hola\";\n",
    "</script>"
   ]
  },
  {
   "cell_type": "markdown",
   "metadata": {},
   "source": [
    ">__getElementById__, es un método.\n",
    ">__innerHTML__, es una propiedad\n",
    ">\n",
    "> La forma más común de acceder a un elemento HTML es através de su _id_ (\"algo\" en el ejemplo).\n",
    "# DOM - Obteniendo valores de elementos HTML\n",
    "> Los valores son textos en la mayoría de veces, pertenecientes a etiquetas HTML, observemos el siguiente código"
   ]
  },
  {
   "cell_type": "code",
   "execution_count": null,
   "metadata": {},
   "outputs": [],
   "source": [
    "%%html\n",
    "<html>\n",
    "<body>\n",
    "<h2>Encontrando elementos por su id</h2>\n",
    "\n",
    "<p id=\"mensaje\">Hola Mundo</p>\n",
    "<p>Uso del método <b>getElementById</b>.</p>\n",
    "\n",
    "<p id=\"mensaje2\"></p>\n",
    "<script>\n",
    "\n",
    "</script>\n",
    "\n",
    "</body>\n",
    "</html>"
   ]
  },
  {
   "cell_type": "markdown",
   "metadata": {},
   "source": [
    "> Podemos detectar fácilmente las etiquetas, sus valores, sus id?\n",
    ">\n",
    ">Hasta ahora hemos visto como podemos modificar los valores de un elemento HTML a través de su ID. Sin embargo, también se puede acceder a dichos valores, para almacenarlos y emplearlos en otra parte del documento. Suponga vamos a almacenar el valor de la etiqueta con el id=\"mensaje\", para mostrarlo dentro de una ventana emergente. Esto es posible mediante el uso de variables.\n",
    ">\n",
    ">Agregue dentro del script el siguiente código"
   ]
  },
  {
   "cell_type": "code",
   "execution_count": 1,
   "metadata": {},
   "outputs": [
    {
     "data": {
      "text/html": [
       "<script>\n",
       "var miVariable = document.getElementById(\"mensaje\");\n",
       "window.alert(\"El texto dentro de este parrafo es \" + miVariable.innerHTML);\n",
       "</script>\n"
      ],
      "text/plain": [
       "<IPython.core.display.HTML object>"
      ]
     },
     "metadata": {},
     "output_type": "display_data"
    }
   ],
   "source": [
    "%%html\n",
    "<script>\n",
    "var miVariable = document.getElementById(\"mensaje\");\n",
    "window.alert(\"El texto dentro de este parrafo es \" + miVariable.innerHTML);\n",
    "</script>"
   ]
  },
  {
   "cell_type": "markdown",
   "metadata": {},
   "source": [
    ">> ## Descripción\n",
    ">> La variable _miVariable_ guardará el valor que contiene el elemento HTML cuyo id es \"mensaje\". <br>\n",
    ">> Después con la sentencia _window.alert_ creamos una ventana emergente, que mostrará: \"El texto dentro de este parrafo es\". \n",
    ">> Luego se le agrega con el operador \"+\" el valor contenido en el elemento en cuestión, al cual se accede con _miVariable_ a través de la propiedad _innerHTML_."
   ]
  },
  {
   "attachments": {
    "arrays_in_javascript.gif": {
     "image/gif": "[encoded data removed]"
    }
   },
   "cell_type": "markdown",
   "metadata": {},
   "source": [
    "# DOM - Encontrando elementos por su etiqueta (tag name)\n",
    "> ## Método document.getElementByTagName\n",
    "> Este método permite encontrar todos los elementos HTML que correspondan a una misma etiqueta, se procede de la misma forma que en el ejemplo anterior, hay algunas consideraciones importantes:\n",
    ">\n",
    "> - La variable donde se almacenan las etiquetas encontradas es de tipo lista (array), aunque no se necesario declararla como tal\n",
    "> - Los elementos encontrados ocuparán una posición en la lista de acuerdo a su orden de aparición en el documento HTML.\n",
    "> - para acceder a un elemento en particular, se deben usar los índices, en JavaScript como en Python, la indexación inicia con el número cero.\n",
    ">\n",
    "![arrays_in_javascript.gif](attachment:arrays_in_javascript.gif)\n",
    ">\n",
    "> ## Ejemplo\n",
    "> El siguiente código HTML presenta varias etiquetas de tipo _p(párrafo)_, usaremos un script para encontrarlas y obtener el valor almacenado en alguna de ellas."
   ]
  },
  {
   "cell_type": "code",
   "execution_count": null,
   "metadata": {},
   "outputs": [],
   "source": [
    "%%html\n",
    "<html>\n",
    "<body>\n",
    "\n",
    "<h2>Encontrando valores de elementos HTML por el nombre de la etiqueta</h2>\n",
    "\n",
    "<p>Hola Mundo!</p>\n",
    "<p>Ejemplo del uso del metodo <b>getElementsByTagName</b>.</p>\n",
    "\n",
    "<p id=\"demo\">Fin del ejemplo</p>\n",
    "\n",
    "\n",
    "</body>\n",
    "</html>"
   ]
  },
  {
   "cell_type": "markdown",
   "metadata": {},
   "source": [
    "> A continuación, dentro del script el método _document.getElementByTagName_ se encargará de realizar la búsqueda y almacenar cada acierto en una posición de la lista."
   ]
  },
  {
   "cell_type": "code",
   "execution_count": null,
   "metadata": {},
   "outputs": [],
   "source": [
    "%%html\n",
    "<script>\n",
    "var x = document.getElementsByTagName(\"p\");\n",
    "document.write('El texto en la primera etiqueta hallada (index 0) es: ' + x[0].innerHTML);\n",
    "</script>"
   ]
  },
  {
   "cell_type": "markdown",
   "metadata": {},
   "source": [
    "> ## Descripción\n",
    ">> Dentro de la variable x se creara la lista que será llenada por el metodo document.getElementsByTagName(\"p\")<br>\n",
    ">> Usando la sentencia document.write para escribir al final de todos los elementos el mensaje: \"El texto en la primera etiqueta hallada (index 0) es: \" <br>\n",
    ">> Finalmente, se agrega con el operador \"+\" el primer elemento encontrado con dicha etiqueta usando la propiedad _innerHTML_, el cual corresponde a la posición cero entre corchetes.\n",
    "# Ejercicio\n",
    "1. Diseñe una página web con su repectivo color de fondo hexadecimal y título de cabecera\n",
    "2. Agregue 5 elementos HTML _H2_ cada uno debe tener una frase motivacional que usted se sepa o aplique, en caso de no tener alguna busque en internet (no acción poética 😒).\n",
    "3. Mediante un script acceda por su id al valor guardado en la frase numero 3 y muestrelo en una ventana emergente.\n",
    "4. En ese mismo scrpit realice una busqueda por tag de las frases motivacionales y muestre en otra ventana emergente la correspondiente a la ultma posición.\n",
    "5. Guarde su documento con los apellidos de los integrantes:\n",
    "\n",
    "ardilla_duque_1101.html"
   ]
  }
 ],
 "metadata": {
  "hide_input": false,
  "kernelspec": {
   "display_name": "Python 3",
   "language": "python",
   "name": "python3"
  },
  "language_info": {
   "codemirror_mode": {
    "name": "ipython",
    "version": 3
   },
   "file_extension": ".py",
   "mimetype": "text/x-python",
   "name": "python",
   "nbconvert_exporter": "python",
   "pygments_lexer": "ipython3",
   "version": "3.7.3"
  },
  "toc": {
   "base_numbering": 1,
   "nav_menu": {},
   "number_sections": true,
   "sideBar": true,
   "skip_h1_title": false,
   "title_cell": "Table of Contents",
   "title_sidebar": "Contents",
   "toc_cell": true,
   "toc_position": {},
   "toc_section_display": true,
   "toc_window_display": true
  }
 },
 "nbformat": 4,
 "nbformat_minor": 2
}
