{
 "cells": [
  {
   "cell_type": "markdown",
   "metadata": {},
   "source": [
    "# JavaScript \n",
    "## Sesion 1\n",
    "### Docente: Alexander Acevedo \n",
    "#### Colegio AntonioBaraya IED"
   ]
  },
  {
   "attachments": {
    "Capture.PNG": {
     "image/png": "[encoded data removed]"
    }
   },
   "cell_type": "markdown",
   "metadata": {},
   "source": [
    "> __Concepto__: JavaScript (abreviado comúnmente JS) es un lenguaje de programación interpretado, dialecto del estándar ECMAScript. Se define como orientado a objetos, basado en prototipos, imperativo, débilmente tipado y dinámico. \n",
    "Se utiliza principalmente en su forma del lado del cliente (client-side), implementado como parte de un navegador web permitiendo mejoras en la interfaz de usuario y páginas web dinámicas4​ aunque existe una forma de JavaScript del lado del servidor (Server-side JavaScript o SSJS). Su uso en aplicaciones externas a la web, por ejemplo en documentos PDF, aplicaciones de escritorio (mayoritariamente widgets) es también significativo. [wikipedia](https://es.wikipedia.org/wiki/JavaScript) <br><br>\n",
    ">__Su Popularidad__: Una de las ventajas de trabajar con JavaScript, o al menos en una etapa inicial, radica en no necesitar de mayores requerimientos para su programacion y ejecucion, solo es necesario tener un navegador actualizado y comenzar a probar el lenguaje desde la consola.\n",
    "\n",
    "## Ejecutando JavaScript\n",
    "Para comenzar a probar las caracteristicas basicas del lenguaje, solo basta con seguir los siguientes pasos:\n",
    "    1. Ingresar a Google Chrome\n",
    "    2. Una vez alli hay tres formas de activar la consola:\n",
    "        a) Presionando la tecla f12\n",
    "        b) Presionando las teclas: ctrl + shift + j\n",
    "        c) Haciendo clic en el menu derecho > Mas herramientas > Herramientas de desarrollador\n",
    "Debe aparecer una ventana parecida a esta (varia dependiendo de la version del navegador):\n",
    "![Capture.PNG](attachment:Capture.PNG)\n"
   ]
  },
  {
   "cell_type": "markdown",
   "metadata": {},
   "source": [
    "## Interactuando con el lenguaje (sintaxis)\n",
    "__Programar__ basicamente es ordenarle a una maquina (realmente no muy lista) que haga algo que nosotros, la forma de comunicarnos con dicha maquina es atraves de un lenguaje, antes de interactuar es importante aclarar algunos conceptos sobre la sintaxis y semantica del JavaScript.\n",
    "> __Programa__: Es una lista de instrucciones para ser ejecutadas por un computador, esas instrucciones en un lenguaje de programacion recibe el nombre de __declaraciones__, por lo tanto, en JavaScript un programa es una lista de declaraciones.\n",
    "> __Las declaraciones__: estan compuestas por variables, valores, palabras reservadas y comentarios. <br>\n",
    "> __Punto y coma__: las declaraciones en JavaScript deben estar separadas por punto y coma (__;__)."
   ]
  },
  {
   "cell_type": "markdown",
   "metadata": {},
   "source": [
    "### Definiendo variables\n",
    "En la consola de chrome escriba lo siguiente"
   ]
  },
  {
   "cell_type": "code",
   "execution_count": 2,
   "metadata": {},
   "outputs": [],
   "source": [
    "var a, b, c;"
   ]
  },
  {
   "cell_type": "markdown",
   "metadata": {},
   "source": [
    "Que sucedio?\n",
    "Ahora escriba lo siguiente: (para pasar a la siguiene linea oprima: Shift + enter)"
   ]
  },
  {
   "cell_type": "code",
   "execution_count": 4,
   "metadata": {},
   "outputs": [
    {
     "data": {
      "text/plain": [
       "25"
      ]
     },
     "execution_count": 4,
     "metadata": {},
     "output_type": "execute_result"
    }
   ],
   "source": [
    "a = 10;\n",
    "b = 25;"
   ]
  },
  {
   "cell_type": "markdown",
   "metadata": {},
   "source": [
    "En la anterior operacion, ha declarado dos variables: a y b, y les ha asignado dos valores: 10 y 25, respectivamente. El operador igual (=) significa que a una variable le hemos asignado ese valor, hay diferencias entre el uso de este valor en matematicas y en programacion, por ejemplo, en algebra la siguiente ecuacion no tendria ningun sentido:\n",
    "\n",
    "$x =x+1$ <br>\n",
    "Pero en programacion si, estamos diciendo que a $x$, se le asigna el valor que tenia anteriormente y le sumamos 1 (de hecho esta expresion se usa en muchas ocasiones en un programa), lo cual es muy diferente a la respuesta algebraica de: <br>\n",
    "$x-x = 1$ ,<br>\n",
    "$0 = 1$\n",
    "\n",
    "Volviendo al codigo si queremos asignar a la variable c la suma de los valores asignados en a y b, solo debemos escribir:"
   ]
  },
  {
   "cell_type": "code",
   "execution_count": 9,
   "metadata": {},
   "outputs": [
    {
     "data": {
      "text/plain": [
       "35"
      ]
     },
     "execution_count": 9,
     "metadata": {},
     "output_type": "execute_result"
    }
   ],
   "source": [
    "c = a + b;"
   ]
  },
  {
   "cell_type": "markdown",
   "metadata": {},
   "source": [
    "Es coherente el resultado?"
   ]
  },
  {
   "cell_type": "markdown",
   "metadata": {},
   "source": [
    "### Salidas por consola\n",
    "Muestra resultados, expresiones e informacion directamene en la consola. A esta accion se le conoce como __imprimir__\n",
    ">__Strings(Cadenas)__: en programacion se conoce como cadena (string) a los textos, los cuales no tienen ningun valor asignado, se les llama asi puesto que es un conjunto de caracteres encadenados, las cadenas siempre se escriben __entre comillas dobles__ (\").\n",
    "\n",
    "__Hola Mundo__!, en la historia de la programacion el poder indicarle a un lenguaje que salude a la humanidad con \"hola mundo\" ha sido considerada la prueba basica de su funcionamiento. Es una prueba contundente donde se demuestra que el computador acata las ordenes que le damos a traves del lenguaje.<br>\n",
    "Escriba lo siguiente (al ejecutarse debe mostrarse el mensaje en la consola):"
   ]
  },
  {
   "cell_type": "code",
   "execution_count": 2,
   "metadata": {},
   "outputs": [
    {
     "name": "stdout",
     "output_type": "stream",
     "text": [
      "hola mundo!\n"
     ]
    }
   ],
   "source": [
    "console.log(\"hola mundo!\");"
   ]
  },
  {
   "cell_type": "markdown",
   "metadata": {},
   "source": [
    "#### Ejercicio (un programa que nos salude)"
   ]
  },
  {
   "cell_type": "markdown",
   "metadata": {},
   "source": [
    "Asigne a la variable llamada usuario su nombre"
   ]
  },
  {
   "cell_type": "code",
   "execution_count": 13,
   "metadata": {},
   "outputs": [
    {
     "data": {
      "text/plain": [
       "'Alexander'"
      ]
     },
     "execution_count": 13,
     "metadata": {},
     "output_type": "execute_result"
    }
   ],
   "source": [
    "usuario = \"Alexander\";"
   ]
  },
  {
   "cell_type": "markdown",
   "metadata": {},
   "source": [
    "Usando el comando _console.log_ ordene que aparezca el mensaje: \"Hola, Alexander\"; teniendo en cuenta que debe imprimirse su propio nombre. __Debe emplear la variable _usuario___."
   ]
  },
  {
   "cell_type": "markdown",
   "metadata": {},
   "source": [
    "### Input (Solicitando datos)"
   ]
  },
  {
   "cell_type": "markdown",
   "metadata": {},
   "source": [
    ">.Una practica comun en programacion es solicitar datos a traves del teclado y almacenar la respuesta en una variable, como los datos estan ingresando se conocen como inputs, en JavaScript la forma de hacer esto es con el comando _prompt_. <br>\n",
    "\n",
    "Escriba:"
   ]
  },
  {
   "cell_type": "code",
   "execution_count": 3,
   "metadata": {},
   "outputs": [
    {
     "ename": "ReferenceError",
     "evalue": "prompt is not defined",
     "output_type": "error",
     "traceback": [
      "evalmachine.<anonymous>:1",
      "var usuario = prompt(\"digite su nombre\");",
      "              ^",
      "",
      "ReferenceError: prompt is not defined",
      "    at evalmachine.<anonymous>:1:15",
      "    at ContextifyScript.Script.runInThisContext (vm.js:50:33)",
      "    at Object.runInThisContext (vm.js:139:38)",
      "    at run ([eval]:1054:15)",
      "    at onRunRequest ([eval]:888:18)",
      "    at onMessage ([eval]:848:13)",
      "    at emitTwo (events.js:126:13)",
      "    at process.emit (events.js:214:7)",
      "    at emit (internal/child_process.js:762:12)",
      "    at _combinedTickCallback (internal/process/next_tick.js:142:11)"
     ]
    }
   ],
   "source": [
    "var usuario = prompt(\"digite su nombre\");\n",
    "console.log(usuario);"
   ]
  },
  {
   "cell_type": "markdown",
   "metadata": {},
   "source": [
    "Que sucedio?"
   ]
  },
  {
   "cell_type": "markdown",
   "metadata": {},
   "source": [
    "#### Ejercicio\n",
    "1. Usando uso de los comandos correspondientes realice un script que solicite su nombre y su edad por teclado (inputs) asignandolos a sus respectivas variables e imprima un mensaje creativo salundandolo.\n",
    "2. Realice otro script que solicite dos numeros e imprima los resultados de las cuatro operaciones matematicas basicas, guarde su archivo bajo el siguiente formato: Apellido_curso"
   ]
  }
 ],
 "metadata": {
  "hide_input": false,
  "kernelspec": {
   "display_name": "Javascript (Node.js)",
   "language": "javascript",
   "name": "javascript"
  },
  "language_info": {
   "file_extension": ".js",
   "mimetype": "application/javascript",
   "name": "javascript",
   "version": "8.16.0"
  }
 },
 "nbformat": 4,
 "nbformat_minor": 2
}
